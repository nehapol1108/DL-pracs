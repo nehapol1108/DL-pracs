{
 "cells": [
  {
   "cell_type": "markdown",
   "id": "20359380",
   "metadata": {},
   "source": [
    "# Problem Statement 1\n",
    "Implementing Feedforward neural networks with Keras and TensorFlow for classification of hand-written MNIST dataset using below steps:\n",
    "\n",
    "a. Import the Necessary Packages:"
   ]
  },
  {
   "cell_type": "code",
   "execution_count": 19,
   "id": "ae602e4c",
   "metadata": {},
   "outputs": [],
   "source": [
    "import numpy as np\n",
    "import matplotlib.pyplot as plt\n",
    "import tensorflow as tf\n",
    "from tensorflow import keras\n",
    "from tensorflow.keras.datasets import mnist\n",
    "from tensorflow.keras.models import Sequential\n",
    "from tensorflow.keras.layers import Dense \n",
    "from tensorflow.keras.optimizers import SGD\n",
    "from sklearn.preprocessing import LabelBinarizer\n",
    "from sklearn.metrics import classification_report"
   ]
  },
  {
   "cell_type": "code",
   "execution_count": null,
   "id": "d063eb91",
   "metadata": {},
   "outputs": [],
   "source": []
  },
  {
   "cell_type": "markdown",
   "id": "751cb295",
   "metadata": {},
   "source": [
    "b. Load the Training and Testing Data:"
   ]
  },
  {
   "cell_type": "code",
   "execution_count": 20,
   "id": "a35ff49d",
   "metadata": {},
   "outputs": [],
   "source": [
    "# Load the MNIST Dataset\n",
    "(x_train, y_train), (x_test, y_test) = mnist.load_data()\n",
    "num_classes = 10\n",
    "\n",
    "# Normalize pixel values to the range [0, 1]\n",
    "x_train = x_train.astype('float32') / 255.0\n",
    "x_test = x_test.astype('float32') / 255.0\n",
    "\n",
    "# Flatten the images to a 1D array (for MNIST)\n",
    "x_train = x_train.reshape((x_train.shape[0],-1))\n",
    "x_test = x_test.reshape((x_test.shape[0],-1))\n",
    "\n",
    "# Convert labels to one-hot encoding\n",
    "y_train = keras.utils.to_categorical(y_train, num_classes)\n",
    "y_test = keras.utils.to_categorical(y_test, num_classes)"
   ]
  },
  {
   "cell_type": "code",
   "execution_count": 21,
   "id": "db3c509b",
   "metadata": {},
   "outputs": [
    {
     "data": {
      "text/plain": [
       "60000"
      ]
     },
     "execution_count": 21,
     "metadata": {},
     "output_type": "execute_result"
    }
   ],
   "source": [
    "len(x_train)"
   ]
  },
  {
   "cell_type": "code",
   "execution_count": 22,
   "id": "237a4b42",
   "metadata": {},
   "outputs": [
    {
     "data": {
      "text/plain": [
       "60000"
      ]
     },
     "execution_count": 22,
     "metadata": {},
     "output_type": "execute_result"
    }
   ],
   "source": [
    "len(x_train)"
   ]
  },
  {
   "cell_type": "code",
   "execution_count": 23,
   "id": "5607c625",
   "metadata": {},
   "outputs": [
    {
     "data": {
      "text/plain": [
       "(60000, 784)"
      ]
     },
     "execution_count": 23,
     "metadata": {},
     "output_type": "execute_result"
    }
   ],
   "source": [
    "x_train.shape"
   ]
  },
  {
   "cell_type": "code",
   "execution_count": 24,
   "id": "5846d19f",
   "metadata": {},
   "outputs": [
    {
     "data": {
      "text/plain": [
       "(10000, 784)"
      ]
     },
     "execution_count": 24,
     "metadata": {},
     "output_type": "execute_result"
    }
   ],
   "source": [
    "x_test.shape"
   ]
  },
  {
   "cell_type": "code",
   "execution_count": 25,
   "id": "e82f7030",
   "metadata": {},
   "outputs": [],
   "source": [
    "lb = LabelBinarizer()\n",
    "y_train = lb.fit_transform(y_train)\n",
    "y_test = lb.transform(y_test)\n",
    "\n",
    "# model = Sequential()\n",
    "# model.add(Dense(512, input_shape=(28*28,), activation='relu'))\n",
    "# model.add(Dense(256, activation='relu'))\n",
    "# model.add(Dense(num_classes, activation='softmax'))"
   ]
  },
  {
   "cell_type": "markdown",
   "id": "01871da9",
   "metadata": {},
   "source": [
    "c. Define the Network Architecture Using Keras:"
   ]
  },
  {
   "cell_type": "code",
   "execution_count": 26,
   "id": "cc5c105e",
   "metadata": {},
   "outputs": [
    {
     "name": "stdout",
     "output_type": "stream",
     "text": [
      "Model: \"sequential_1\"\n",
      "_________________________________________________________________\n",
      " Layer (type)                Output Shape              Param #   \n",
      "=================================================================\n",
      " dense_3 (Dense)             (None, 128)               100480    \n",
      "                                                                 \n",
      " dense_4 (Dense)             (None, 64)                8256      \n",
      "                                                                 \n",
      " dense_5 (Dense)             (None, 10)                650       \n",
      "                                                                 \n",
      "=================================================================\n",
      "Total params: 109386 (427.29 KB)\n",
      "Trainable params: 109386 (427.29 KB)\n",
      "Non-trainable params: 0 (0.00 Byte)\n",
      "_________________________________________________________________\n"
     ]
    }
   ],
   "source": [
    "model = Sequential([\n",
    "    Dense(128,activation='relu',input_shape=(28*28,)),\n",
    "    Dense(64,activation='relu'),\n",
    "    Dense(10,activation='softmax'),\n",
    "])\n",
    "\n",
    "model.summary()"
   ]
  },
  {
   "cell_type": "markdown",
   "id": "b8f27113",
   "metadata": {},
   "source": [
    "d. Train the Model Using Stochastic Gradient Descent (SGD):"
   ]
  },
  {
   "cell_type": "code",
   "execution_count": 27,
   "id": "62399089",
   "metadata": {},
   "outputs": [
    {
     "name": "stderr",
     "output_type": "stream",
     "text": [
      "WARNING:absl:`lr` is deprecated in Keras optimizer, please use `learning_rate` or use the legacy optimizer, e.g.,tf.keras.optimizers.legacy.SGD.\n"
     ]
    },
    {
     "name": "stdout",
     "output_type": "stream",
     "text": [
      "Epoch 1/11\n",
      "469/469 [==============================] - 4s 7ms/step - loss: 1.3122 - accuracy: 0.6644 - val_loss: 0.6237 - val_accuracy: 0.8533\n",
      "Epoch 2/11\n",
      "469/469 [==============================] - 3s 6ms/step - loss: 0.5068 - accuracy: 0.8696 - val_loss: 0.4091 - val_accuracy: 0.8896\n",
      "Epoch 3/11\n",
      "469/469 [==============================] - 3s 6ms/step - loss: 0.3914 - accuracy: 0.8913 - val_loss: 0.3476 - val_accuracy: 0.9011\n",
      "Epoch 4/11\n",
      "469/469 [==============================] - 3s 6ms/step - loss: 0.3456 - accuracy: 0.9022 - val_loss: 0.3191 - val_accuracy: 0.9111\n",
      "Epoch 5/11\n",
      "469/469 [==============================] - 3s 6ms/step - loss: 0.3177 - accuracy: 0.9093 - val_loss: 0.2964 - val_accuracy: 0.9157\n",
      "Epoch 6/11\n",
      "469/469 [==============================] - 3s 6ms/step - loss: 0.2972 - accuracy: 0.9149 - val_loss: 0.2804 - val_accuracy: 0.9202\n",
      "Epoch 7/11\n",
      "469/469 [==============================] - 3s 6ms/step - loss: 0.2807 - accuracy: 0.9199 - val_loss: 0.2664 - val_accuracy: 0.9247\n",
      "Epoch 8/11\n",
      "469/469 [==============================] - 3s 6ms/step - loss: 0.2666 - accuracy: 0.9247 - val_loss: 0.2547 - val_accuracy: 0.9280\n",
      "Epoch 9/11\n",
      "469/469 [==============================] - 3s 6ms/step - loss: 0.2543 - accuracy: 0.9276 - val_loss: 0.2448 - val_accuracy: 0.9309\n",
      "Epoch 10/11\n",
      "469/469 [==============================] - 3s 6ms/step - loss: 0.2431 - accuracy: 0.9311 - val_loss: 0.2353 - val_accuracy: 0.9339\n",
      "Epoch 11/11\n",
      "469/469 [==============================] - 3s 6ms/step - loss: 0.2332 - accuracy: 0.9343 - val_loss: 0.2267 - val_accuracy: 0.9352\n"
     ]
    }
   ],
   "source": [
    "sgd = SGD(lr=0.01)\n",
    "model.compile(loss='categorical_crossentropy', optimizer=sgd, metrics=['accuracy'])\n",
    "\n",
    "history = model.fit(x_train, y_train, batch_size=128, epochs=11, validation_data=(x_test, y_test))"
   ]
  },
  {
   "cell_type": "markdown",
   "id": "86af5dab",
   "metadata": {},
   "source": [
    "e. Evaluate the Network:"
   ]
  },
  {
   "cell_type": "code",
   "execution_count": 28,
   "id": "e699bb02",
   "metadata": {},
   "outputs": [
    {
     "name": "stdout",
     "output_type": "stream",
     "text": [
      "Test loss: 0.22668656706809998\n",
      "Test accuracy: 0.9351999759674072\n"
     ]
    }
   ],
   "source": [
    "score = model.evaluate(x_test, y_test, verbose=0)\n",
    "print('Test loss:', score[0])\n",
    "print('Test accuracy:', score[1])"
   ]
  },
  {
   "cell_type": "code",
   "execution_count": null,
   "id": "b7ac7dd9",
   "metadata": {},
   "outputs": [],
   "source": []
  },
  {
   "cell_type": "code",
   "execution_count": 29,
   "id": "d7e3e05d",
   "metadata": {},
   "outputs": [
    {
     "name": "stdout",
     "output_type": "stream",
     "text": [
      "79/79 [==============================] - 0s 5ms/step\n",
      "              precision    recall  f1-score   support\n",
      "\n",
      "           0       0.94      0.98      0.96       980\n",
      "           1       0.98      0.98      0.98      1135\n",
      "           2       0.94      0.91      0.93      1032\n",
      "           3       0.92      0.93      0.93      1010\n",
      "           4       0.93      0.94      0.93       982\n",
      "           5       0.94      0.89      0.92       892\n",
      "           6       0.95      0.95      0.95       958\n",
      "           7       0.94      0.93      0.94      1028\n",
      "           8       0.90      0.90      0.90       974\n",
      "           9       0.91      0.92      0.92      1009\n",
      "\n",
      "    accuracy                           0.94     10000\n",
      "   macro avg       0.93      0.93      0.93     10000\n",
      "weighted avg       0.94      0.94      0.94     10000\n",
      "\n",
      "Actual Number:  9\n",
      "Predicted Number:  9\n"
     ]
    },
    {
     "data": {
      "image/png": "[encoded data removed]",
      "text/plain": [
       "<Figure size 640x480 with 1 Axes>"
      ]
     },
     "metadata": {},
     "output_type": "display_data"
    }
   ],
   "source": [
    "n = 20\n",
    "plt.imshow(x_test[n].reshape(28, 28), cmap='gray')\n",
    "predicted_value = model.predict(x_test, batch_size=128)\n",
    "print(classification_report(y_test.argmax(axis=1),predicted_value.argmax(axis=1),target_names=[str(x) for x in lb.classes_]))\n",
    "print(\"Actual Number: \",np.argmax(y_test[n]))\n",
    "print(\"Predicted Number: \", np.argmax(predicted_value[n]))"
   ]
  },
  {
   "cell_type": "markdown",
   "id": "a8557603",
   "metadata": {},
   "source": [
    "f. Plot the Training Loss and Accuracy:"
   ]
  },
  {
   "cell_type": "code",
   "execution_count": 30,
   "id": "2909139c",
   "metadata": {},
   "outputs": [
    {
     "data": {
      "image/png": "[encoded data removed]",
      "text/plain": [
       "<Figure size 640x480 with 1 Axes>"
      ]
     },
     "metadata": {},
     "output_type": "display_data"
    }
   ],
   "source": [
    "# Plot training & validation loss values\n",
    "plt.plot(history.history['loss'])\n",
    "plt.plot(history.history['val_loss'])\n",
    "plt.title('Model loss')\n",
    "plt.ylabel('Loss')\n",
    "plt.xlabel('Epoch')\n",
    "plt.legend(['Train', 'Test'], loc='upper right')\n",
    "plt.show()"
   ]
  },
  {
   "cell_type": "code",
   "execution_count": 31,
   "id": "134988eb",
   "metadata": {},
   "outputs": [
    {
     "data": {
      "image/png": "[encoded data removed]",
      "text/plain": [
       "<Figure size 640x480 with 1 Axes>"
      ]
     },
     "metadata": {},
     "output_type": "display_data"
    }
   ],
   "source": [
    "# Plot training & validation accuracy values\n",
    "plt.plot(history.history['accuracy'])\n",
    "plt.plot(history.history['val_accuracy'])\n",
    "plt.title('Model accuracy')\n",
    "plt.ylabel('Accuracy')\n",
    "plt.xlabel('Epoch')\n",
    "plt.legend(['Train', 'Test'], loc='upper left')\n",
    "plt.show()\n",
    "     "
   ]
  },
  {
   "cell_type": "code",
   "execution_count": null,
   "id": "d373a600",
   "metadata": {},
   "outputs": [],
   "source": []
  },
  {
   "cell_type": "code",
   "execution_count": null,
   "id": "2040f814",
   "metadata": {},
   "outputs": [],
   "source": []
  }
 ],
 "metadata": {
  "kernelspec": {
   "display_name": "Python 3 (ipykernel)",
   "language": "python",
   "name": "python3"
  },
  "language_info": {
   "codemirror_mode": {
    "name": "ipython",
    "version": 3
   },
   "file_extension": ".py",
   "mimetype": "text/x-python",
   "name": "python",
   "nbconvert_exporter": "python",
   "pygments_lexer": "ipython3",
   "version": "3.10.8"
  }
 },
 "nbformat": 4,
 "nbformat_minor": 5
}
